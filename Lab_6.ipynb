{
 "cells": [
  {
   "cell_type": "code",
   "execution_count": 3,
   "id": "a2ae7d3b",
   "metadata": {},
   "outputs": [
    {
     "name": "stdout",
     "output_type": "stream",
     "text": [
      "Enter city name: Pune\n",
      "Weather Report for Pune, IN:\n",
      "Temperature: 25.88°C\n",
      "Wind Speed: 2.14 m/s\n",
      "Description: overcast clouds\n",
      "Weather: Clouds\n"
     ]
    }
   ],
   "source": [
    "import requests\n",
    "\n",
    "# Function to get weather report for a given city\n",
    "def get_weather(city_name):\n",
    "    \n",
    "    api_key = '6251c6b0e91d1fb352306675a9bfb5d5'\n",
    "    \n",
    "    # Base URL of the OpenWeatherMap API\n",
    "    base_url = 'http://api.openweathermap.org/data/2.5/weather'\n",
    "    \n",
    "    # Parameters to be passed to the API\n",
    "    params = {\n",
    "        'q': city_name,\n",
    "        'appid': api_key,\n",
    "        'units': 'metric'  # Use 'imperial' for Fahrenheit\n",
    "    }\n",
    "    \n",
    "    # Send a request to the API\n",
    "    response = requests.get(base_url, params=params)\n",
    "    \n",
    "    # Check if the response is valid (status code 200)\n",
    "    if response.status_code == 200:\n",
    "        # Parse the JSON response\n",
    "        data = response.json()\n",
    "        \n",
    "        # Extracting weather details\n",
    "        city = data['name']\n",
    "        country = data['sys']['country']\n",
    "        temperature = data['main']['temp']\n",
    "        wind_speed = data['wind']['speed']\n",
    "        description = data['weather'][0]['description']\n",
    "        weather_main = data['weather'][0]['main']\n",
    "        \n",
    "        # Display the weather report\n",
    "        print(f\"Weather Report for {city}, {country}:\")\n",
    "        print(f\"Temperature: {temperature}°C\")\n",
    "        print(f\"Wind Speed: {wind_speed} m/s\")\n",
    "        print(f\"Description: {description}\")\n",
    "        print(f\"Weather: {weather_main}\")\n",
    "    else:\n",
    "        # If the city is not found or there is an error\n",
    "        print(\"City not found or an error occurred.\")\n",
    "\n",
    "# Main function\n",
    "def main():\n",
    "    # Get city name from user input\n",
    "    city_name = input(\"Enter city name: \")\n",
    "    \n",
    "    # Get the weather report for the entered city\n",
    "    get_weather(city_name)\n",
    "\n",
    "# Run the main function\n",
    "if __name__ == '__main__':\n",
    "    main()\n"
   ]
  },
  {
   "cell_type": "code",
   "execution_count": null,
   "id": "97f9c788",
   "metadata": {},
   "outputs": [],
   "source": []
  },
  {
   "cell_type": "code",
   "execution_count": null,
   "id": "6d3c87da",
   "metadata": {},
   "outputs": [],
   "source": []
  }
 ],
 "metadata": {
  "kernelspec": {
   "display_name": "Python 3 (ipykernel)",
   "language": "python",
   "name": "python3"
  },
  "language_info": {
   "codemirror_mode": {
    "name": "ipython",
    "version": 3
   },
   "file_extension": ".py",
   "mimetype": "text/x-python",
   "name": "python",
   "nbconvert_exporter": "python",
   "pygments_lexer": "ipython3",
   "version": "3.11.5"
  }
 },
 "nbformat": 4,
 "nbformat_minor": 5
}
